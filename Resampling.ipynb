{
 "cells": [
  {
   "cell_type": "markdown",
   "id": "76c0c59e",
   "metadata": {},
   "source": [
    "# Resampling\n",
    "\n",
    "Two kinds of resampling:\n",
    "- Upsampling: Where you increase the frequency of the samples, such as from minutes to seconds.\n",
    "- Downsampling: Where you decrease the frequency of the samples, such as from days to months.\n",
    "\n",
    "Two reasons for resampling:\n",
    "- Problem Framing: Resampling may be required if your data is not available at the same frequency that you want to make predictions.\n",
    "- Feature Engineering: Resampling can also be used to provide additional structure or insight into the learning problem for supervised learning models."
   ]
  },
  {
   "cell_type": "code",
   "execution_count": 1,
   "id": "ef9c31cf",
   "metadata": {},
   "outputs": [],
   "source": [
    "# import packages\n",
    "from datetime import datetime\n",
    "import pandas as pd\n",
    "import matplotlib.pyplot as plt"
   ]
  },
  {
   "cell_type": "code",
   "execution_count": 2,
   "id": "e579f614",
   "metadata": {},
   "outputs": [],
   "source": [
    "# get and clean data\n",
    "def parser(x):\n",
    "    return datetime.strptime('190'+x, '%Y-%m')\n",
    "\n",
    "df = pd.read_csv(\"./data/shampoo-sales.csv\",\n",
    "                 delimiter='\\t',\n",
    "                 index_col='Month',\n",
    "                 parse_dates=True,\n",
    "                 date_parser=parser)"
   ]
  },
  {
   "cell_type": "code",
   "execution_count": 3,
   "id": "35100278",
   "metadata": {},
   "outputs": [
    {
     "data": {
      "text/html": [
       "<div>\n",
       "<style scoped>\n",
       "    .dataframe tbody tr th:only-of-type {\n",
       "        vertical-align: middle;\n",
       "    }\n",
       "\n",
       "    .dataframe tbody tr th {\n",
       "        vertical-align: top;\n",
       "    }\n",
       "\n",
       "    .dataframe thead th {\n",
       "        text-align: right;\n",
       "    }\n",
       "</style>\n",
       "<table border=\"1\" class=\"dataframe\">\n",
       "  <thead>\n",
       "    <tr style=\"text-align: right;\">\n",
       "      <th></th>\n",
       "      <th>Sales</th>\n",
       "    </tr>\n",
       "    <tr>\n",
       "      <th>Month</th>\n",
       "      <th></th>\n",
       "    </tr>\n",
       "  </thead>\n",
       "  <tbody>\n",
       "    <tr>\n",
       "      <th>1901-01-01</th>\n",
       "      <td>266.0</td>\n",
       "    </tr>\n",
       "    <tr>\n",
       "      <th>1901-02-01</th>\n",
       "      <td>145.9</td>\n",
       "    </tr>\n",
       "    <tr>\n",
       "      <th>1901-03-01</th>\n",
       "      <td>183.1</td>\n",
       "    </tr>\n",
       "    <tr>\n",
       "      <th>1901-04-01</th>\n",
       "      <td>119.3</td>\n",
       "    </tr>\n",
       "    <tr>\n",
       "      <th>1901-05-01</th>\n",
       "      <td>180.3</td>\n",
       "    </tr>\n",
       "  </tbody>\n",
       "</table>\n",
       "</div>"
      ],
      "text/plain": [
       "            Sales\n",
       "Month            \n",
       "1901-01-01  266.0\n",
       "1901-02-01  145.9\n",
       "1901-03-01  183.1\n",
       "1901-04-01  119.3\n",
       "1901-05-01  180.3"
      ]
     },
     "execution_count": 3,
     "metadata": {},
     "output_type": "execute_result"
    }
   ],
   "source": [
    "df.head()"
   ]
  },
  {
   "cell_type": "markdown",
   "id": "04492bdd",
   "metadata": {},
   "source": [
    "## Upsampling\n",
    "\n",
    "Increase times series frequency (Month -> Day)"
   ]
  },
  {
   "cell_type": "code",
   "execution_count": 4,
   "id": "7ab524d8",
   "metadata": {},
   "outputs": [],
   "source": [
    "upsampled = df.resample('1D').mean()"
   ]
  },
  {
   "cell_type": "code",
   "execution_count": 5,
   "id": "611fef79",
   "metadata": {},
   "outputs": [
    {
     "data": {
      "text/html": [
       "<div>\n",
       "<style scoped>\n",
       "    .dataframe tbody tr th:only-of-type {\n",
       "        vertical-align: middle;\n",
       "    }\n",
       "\n",
       "    .dataframe tbody tr th {\n",
       "        vertical-align: top;\n",
       "    }\n",
       "\n",
       "    .dataframe thead th {\n",
       "        text-align: right;\n",
       "    }\n",
       "</style>\n",
       "<table border=\"1\" class=\"dataframe\">\n",
       "  <thead>\n",
       "    <tr style=\"text-align: right;\">\n",
       "      <th></th>\n",
       "      <th>Sales</th>\n",
       "    </tr>\n",
       "    <tr>\n",
       "      <th>Month</th>\n",
       "      <th></th>\n",
       "    </tr>\n",
       "  </thead>\n",
       "  <tbody>\n",
       "    <tr>\n",
       "      <th>1901-01-01</th>\n",
       "      <td>266.0</td>\n",
       "    </tr>\n",
       "    <tr>\n",
       "      <th>1901-01-02</th>\n",
       "      <td>NaN</td>\n",
       "    </tr>\n",
       "    <tr>\n",
       "      <th>1901-01-03</th>\n",
       "      <td>NaN</td>\n",
       "    </tr>\n",
       "    <tr>\n",
       "      <th>1901-01-04</th>\n",
       "      <td>NaN</td>\n",
       "    </tr>\n",
       "    <tr>\n",
       "      <th>1901-01-05</th>\n",
       "      <td>NaN</td>\n",
       "    </tr>\n",
       "    <tr>\n",
       "      <th>1901-01-06</th>\n",
       "      <td>NaN</td>\n",
       "    </tr>\n",
       "    <tr>\n",
       "      <th>1901-01-07</th>\n",
       "      <td>NaN</td>\n",
       "    </tr>\n",
       "    <tr>\n",
       "      <th>1901-01-08</th>\n",
       "      <td>NaN</td>\n",
       "    </tr>\n",
       "    <tr>\n",
       "      <th>1901-01-09</th>\n",
       "      <td>NaN</td>\n",
       "    </tr>\n",
       "    <tr>\n",
       "      <th>1901-01-10</th>\n",
       "      <td>NaN</td>\n",
       "    </tr>\n",
       "    <tr>\n",
       "      <th>1901-01-11</th>\n",
       "      <td>NaN</td>\n",
       "    </tr>\n",
       "    <tr>\n",
       "      <th>1901-01-12</th>\n",
       "      <td>NaN</td>\n",
       "    </tr>\n",
       "    <tr>\n",
       "      <th>1901-01-13</th>\n",
       "      <td>NaN</td>\n",
       "    </tr>\n",
       "    <tr>\n",
       "      <th>1901-01-14</th>\n",
       "      <td>NaN</td>\n",
       "    </tr>\n",
       "    <tr>\n",
       "      <th>1901-01-15</th>\n",
       "      <td>NaN</td>\n",
       "    </tr>\n",
       "    <tr>\n",
       "      <th>1901-01-16</th>\n",
       "      <td>NaN</td>\n",
       "    </tr>\n",
       "    <tr>\n",
       "      <th>1901-01-17</th>\n",
       "      <td>NaN</td>\n",
       "    </tr>\n",
       "    <tr>\n",
       "      <th>1901-01-18</th>\n",
       "      <td>NaN</td>\n",
       "    </tr>\n",
       "    <tr>\n",
       "      <th>1901-01-19</th>\n",
       "      <td>NaN</td>\n",
       "    </tr>\n",
       "    <tr>\n",
       "      <th>1901-01-20</th>\n",
       "      <td>NaN</td>\n",
       "    </tr>\n",
       "    <tr>\n",
       "      <th>1901-01-21</th>\n",
       "      <td>NaN</td>\n",
       "    </tr>\n",
       "    <tr>\n",
       "      <th>1901-01-22</th>\n",
       "      <td>NaN</td>\n",
       "    </tr>\n",
       "    <tr>\n",
       "      <th>1901-01-23</th>\n",
       "      <td>NaN</td>\n",
       "    </tr>\n",
       "    <tr>\n",
       "      <th>1901-01-24</th>\n",
       "      <td>NaN</td>\n",
       "    </tr>\n",
       "    <tr>\n",
       "      <th>1901-01-25</th>\n",
       "      <td>NaN</td>\n",
       "    </tr>\n",
       "    <tr>\n",
       "      <th>1901-01-26</th>\n",
       "      <td>NaN</td>\n",
       "    </tr>\n",
       "    <tr>\n",
       "      <th>1901-01-27</th>\n",
       "      <td>NaN</td>\n",
       "    </tr>\n",
       "    <tr>\n",
       "      <th>1901-01-28</th>\n",
       "      <td>NaN</td>\n",
       "    </tr>\n",
       "    <tr>\n",
       "      <th>1901-01-29</th>\n",
       "      <td>NaN</td>\n",
       "    </tr>\n",
       "    <tr>\n",
       "      <th>1901-01-30</th>\n",
       "      <td>NaN</td>\n",
       "    </tr>\n",
       "    <tr>\n",
       "      <th>1901-01-31</th>\n",
       "      <td>NaN</td>\n",
       "    </tr>\n",
       "    <tr>\n",
       "      <th>1901-02-01</th>\n",
       "      <td>145.9</td>\n",
       "    </tr>\n",
       "  </tbody>\n",
       "</table>\n",
       "</div>"
      ],
      "text/plain": [
       "            Sales\n",
       "Month            \n",
       "1901-01-01  266.0\n",
       "1901-01-02    NaN\n",
       "1901-01-03    NaN\n",
       "1901-01-04    NaN\n",
       "1901-01-05    NaN\n",
       "1901-01-06    NaN\n",
       "1901-01-07    NaN\n",
       "1901-01-08    NaN\n",
       "1901-01-09    NaN\n",
       "1901-01-10    NaN\n",
       "1901-01-11    NaN\n",
       "1901-01-12    NaN\n",
       "1901-01-13    NaN\n",
       "1901-01-14    NaN\n",
       "1901-01-15    NaN\n",
       "1901-01-16    NaN\n",
       "1901-01-17    NaN\n",
       "1901-01-18    NaN\n",
       "1901-01-19    NaN\n",
       "1901-01-20    NaN\n",
       "1901-01-21    NaN\n",
       "1901-01-22    NaN\n",
       "1901-01-23    NaN\n",
       "1901-01-24    NaN\n",
       "1901-01-25    NaN\n",
       "1901-01-26    NaN\n",
       "1901-01-27    NaN\n",
       "1901-01-28    NaN\n",
       "1901-01-29    NaN\n",
       "1901-01-30    NaN\n",
       "1901-01-31    NaN\n",
       "1901-02-01  145.9"
      ]
     },
     "execution_count": 5,
     "metadata": {},
     "output_type": "execute_result"
    }
   ],
   "source": [
    "upsampled.head(32)"
   ]
  },
  {
   "cell_type": "code",
   "execution_count": 6,
   "id": "1b173dba",
   "metadata": {},
   "outputs": [],
   "source": [
    "interpolated = upsampled.interpolate(method='linear')"
   ]
  },
  {
   "cell_type": "code",
   "execution_count": 7,
   "id": "cca730f1",
   "metadata": {},
   "outputs": [
    {
     "data": {
      "text/html": [
       "<div>\n",
       "<style scoped>\n",
       "    .dataframe tbody tr th:only-of-type {\n",
       "        vertical-align: middle;\n",
       "    }\n",
       "\n",
       "    .dataframe tbody tr th {\n",
       "        vertical-align: top;\n",
       "    }\n",
       "\n",
       "    .dataframe thead th {\n",
       "        text-align: right;\n",
       "    }\n",
       "</style>\n",
       "<table border=\"1\" class=\"dataframe\">\n",
       "  <thead>\n",
       "    <tr style=\"text-align: right;\">\n",
       "      <th></th>\n",
       "      <th>Sales</th>\n",
       "    </tr>\n",
       "    <tr>\n",
       "      <th>Month</th>\n",
       "      <th></th>\n",
       "    </tr>\n",
       "  </thead>\n",
       "  <tbody>\n",
       "    <tr>\n",
       "      <th>1901-01-01</th>\n",
       "      <td>266.000000</td>\n",
       "    </tr>\n",
       "    <tr>\n",
       "      <th>1901-01-02</th>\n",
       "      <td>262.125806</td>\n",
       "    </tr>\n",
       "    <tr>\n",
       "      <th>1901-01-03</th>\n",
       "      <td>258.251613</td>\n",
       "    </tr>\n",
       "    <tr>\n",
       "      <th>1901-01-04</th>\n",
       "      <td>254.377419</td>\n",
       "    </tr>\n",
       "    <tr>\n",
       "      <th>1901-01-05</th>\n",
       "      <td>250.503226</td>\n",
       "    </tr>\n",
       "    <tr>\n",
       "      <th>1901-01-06</th>\n",
       "      <td>246.629032</td>\n",
       "    </tr>\n",
       "    <tr>\n",
       "      <th>1901-01-07</th>\n",
       "      <td>242.754839</td>\n",
       "    </tr>\n",
       "    <tr>\n",
       "      <th>1901-01-08</th>\n",
       "      <td>238.880645</td>\n",
       "    </tr>\n",
       "    <tr>\n",
       "      <th>1901-01-09</th>\n",
       "      <td>235.006452</td>\n",
       "    </tr>\n",
       "    <tr>\n",
       "      <th>1901-01-10</th>\n",
       "      <td>231.132258</td>\n",
       "    </tr>\n",
       "    <tr>\n",
       "      <th>1901-01-11</th>\n",
       "      <td>227.258065</td>\n",
       "    </tr>\n",
       "    <tr>\n",
       "      <th>1901-01-12</th>\n",
       "      <td>223.383871</td>\n",
       "    </tr>\n",
       "    <tr>\n",
       "      <th>1901-01-13</th>\n",
       "      <td>219.509677</td>\n",
       "    </tr>\n",
       "    <tr>\n",
       "      <th>1901-01-14</th>\n",
       "      <td>215.635484</td>\n",
       "    </tr>\n",
       "    <tr>\n",
       "      <th>1901-01-15</th>\n",
       "      <td>211.761290</td>\n",
       "    </tr>\n",
       "    <tr>\n",
       "      <th>1901-01-16</th>\n",
       "      <td>207.887097</td>\n",
       "    </tr>\n",
       "    <tr>\n",
       "      <th>1901-01-17</th>\n",
       "      <td>204.012903</td>\n",
       "    </tr>\n",
       "    <tr>\n",
       "      <th>1901-01-18</th>\n",
       "      <td>200.138710</td>\n",
       "    </tr>\n",
       "    <tr>\n",
       "      <th>1901-01-19</th>\n",
       "      <td>196.264516</td>\n",
       "    </tr>\n",
       "    <tr>\n",
       "      <th>1901-01-20</th>\n",
       "      <td>192.390323</td>\n",
       "    </tr>\n",
       "    <tr>\n",
       "      <th>1901-01-21</th>\n",
       "      <td>188.516129</td>\n",
       "    </tr>\n",
       "    <tr>\n",
       "      <th>1901-01-22</th>\n",
       "      <td>184.641935</td>\n",
       "    </tr>\n",
       "    <tr>\n",
       "      <th>1901-01-23</th>\n",
       "      <td>180.767742</td>\n",
       "    </tr>\n",
       "    <tr>\n",
       "      <th>1901-01-24</th>\n",
       "      <td>176.893548</td>\n",
       "    </tr>\n",
       "    <tr>\n",
       "      <th>1901-01-25</th>\n",
       "      <td>173.019355</td>\n",
       "    </tr>\n",
       "    <tr>\n",
       "      <th>1901-01-26</th>\n",
       "      <td>169.145161</td>\n",
       "    </tr>\n",
       "    <tr>\n",
       "      <th>1901-01-27</th>\n",
       "      <td>165.270968</td>\n",
       "    </tr>\n",
       "    <tr>\n",
       "      <th>1901-01-28</th>\n",
       "      <td>161.396774</td>\n",
       "    </tr>\n",
       "    <tr>\n",
       "      <th>1901-01-29</th>\n",
       "      <td>157.522581</td>\n",
       "    </tr>\n",
       "    <tr>\n",
       "      <th>1901-01-30</th>\n",
       "      <td>153.648387</td>\n",
       "    </tr>\n",
       "    <tr>\n",
       "      <th>1901-01-31</th>\n",
       "      <td>149.774194</td>\n",
       "    </tr>\n",
       "    <tr>\n",
       "      <th>1901-02-01</th>\n",
       "      <td>145.900000</td>\n",
       "    </tr>\n",
       "  </tbody>\n",
       "</table>\n",
       "</div>"
      ],
      "text/plain": [
       "                 Sales\n",
       "Month                 \n",
       "1901-01-01  266.000000\n",
       "1901-01-02  262.125806\n",
       "1901-01-03  258.251613\n",
       "1901-01-04  254.377419\n",
       "1901-01-05  250.503226\n",
       "1901-01-06  246.629032\n",
       "1901-01-07  242.754839\n",
       "1901-01-08  238.880645\n",
       "1901-01-09  235.006452\n",
       "1901-01-10  231.132258\n",
       "1901-01-11  227.258065\n",
       "1901-01-12  223.383871\n",
       "1901-01-13  219.509677\n",
       "1901-01-14  215.635484\n",
       "1901-01-15  211.761290\n",
       "1901-01-16  207.887097\n",
       "1901-01-17  204.012903\n",
       "1901-01-18  200.138710\n",
       "1901-01-19  196.264516\n",
       "1901-01-20  192.390323\n",
       "1901-01-21  188.516129\n",
       "1901-01-22  184.641935\n",
       "1901-01-23  180.767742\n",
       "1901-01-24  176.893548\n",
       "1901-01-25  173.019355\n",
       "1901-01-26  169.145161\n",
       "1901-01-27  165.270968\n",
       "1901-01-28  161.396774\n",
       "1901-01-29  157.522581\n",
       "1901-01-30  153.648387\n",
       "1901-01-31  149.774194\n",
       "1901-02-01  145.900000"
      ]
     },
     "execution_count": 7,
     "metadata": {},
     "output_type": "execute_result"
    }
   ],
   "source": [
    "interpolated.head(32)"
   ]
  },
  {
   "cell_type": "code",
   "execution_count": 8,
   "id": "e65c3214",
   "metadata": {},
   "outputs": [
    {
     "data": {
      "image/png": "[encoded data removed]",
      "text/plain": [
       "<Figure size 864x360 with 1 Axes>"
      ]
     },
     "metadata": {
      "needs_background": "light"
     },
     "output_type": "display_data"
    }
   ],
   "source": [
    "fig = plt.figure(figsize=(12,5))\n",
    "_ = plt.plot(interpolated, color='red', label='interpolated', marker='.',\n",
    "              markersize=0.5, linewidth=0)\n",
    "_ = plt.plot(df, color='blue', label='original data', linewidth=0,\n",
    "            marker='o')\n",
    "_ = plt.show()"
   ]
  },
  {
   "cell_type": "code",
   "execution_count": 9,
   "id": "0678bb67",
   "metadata": {},
   "outputs": [],
   "source": [
    "interpolated = upsampled.interpolate(method='spline', order=2)"
   ]
  },
  {
   "cell_type": "code",
   "execution_count": 10,
   "id": "d17c74bf",
   "metadata": {},
   "outputs": [
    {
     "data": {
      "image/png": "[encoded data removed]",
      "text/plain": [
       "<Figure size 864x360 with 1 Axes>"
      ]
     },
     "metadata": {
      "needs_background": "light"
     },
     "output_type": "display_data"
    }
   ],
   "source": [
    "fig = plt.figure(figsize=(12,5))\n",
    "_ = plt.plot(interpolated, color='red', label='interpolated', marker='.',\n",
    "              markersize=0.5, linewidth=0)\n",
    "_ = plt.plot(df, color='blue', label='original data', linewidth=0,\n",
    "            marker='o')\n",
    "_ = plt.show()"
   ]
  },
  {
   "cell_type": "markdown",
   "id": "19a4d8e8",
   "metadata": {},
   "source": [
    "## Downsampling\n",
    "\n",
    "Decrease times series frequency (Month -> Year)"
   ]
  },
  {
   "cell_type": "code",
   "execution_count": 11,
   "id": "832f17f9",
   "metadata": {},
   "outputs": [],
   "source": [
    "annual_df = df.resample('A').mean()"
   ]
  },
  {
   "cell_type": "code",
   "execution_count": 12,
   "id": "8a725f3d",
   "metadata": {},
   "outputs": [
    {
     "data": {
      "image/png": "[encoded data removed]",
      "text/plain": [
       "<Figure size 864x360 with 1 Axes>"
      ]
     },
     "metadata": {
      "needs_background": "light"
     },
     "output_type": "display_data"
    }
   ],
   "source": [
    "fig = plt.figure(figsize=(12,5))\n",
    "_ = plt.plot(annual_df, color='red', label='annual sum')\n",
    "_ = plt.plot(df, color='blue', label='original data')\n",
    "_ = plt.show()"
   ]
  },
  {
   "cell_type": "code",
   "execution_count": 13,
   "id": "ccb67322",
   "metadata": {},
   "outputs": [],
   "source": [
    "Q_df = df.resample('Q').mean()"
   ]
  },
  {
   "cell_type": "code",
   "execution_count": 14,
   "id": "3d9719f9",
   "metadata": {},
   "outputs": [
    {
     "data": {
      "image/png": "[encoded data removed]",
      "text/plain": [
       "<Figure size 864x360 with 1 Axes>"
      ]
     },
     "metadata": {
      "needs_background": "light"
     },
     "output_type": "display_data"
    }
   ],
   "source": [
    "fig = plt.figure(figsize=(12,5))\n",
    "_ = plt.plot(Q_df, color='red', label='quarterly sum')\n",
    "_ = plt.plot(df, color='blue', label='original data')\n",
    "_ = plt.show()"
   ]
  }
 ],
 "metadata": {
  "kernelspec": {
   "display_name": "Python 3",
   "language": "python",
   "name": "python3"
  },
  "language_info": {
   "codemirror_mode": {
    "name": "ipython",
    "version": 3
   },
   "file_extension": ".py",
   "mimetype": "text/x-python",
   "name": "python",
   "nbconvert_exporter": "python",
   "pygments_lexer": "ipython3",
   "version": "3.8.10"
  }
 },
 "nbformat": 4,
 "nbformat_minor": 5
}
